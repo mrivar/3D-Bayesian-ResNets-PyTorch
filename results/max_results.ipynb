{
 "cells": [
  {
   "cell_type": "code",
   "execution_count": 1,
   "metadata": {},
   "outputs": [],
   "source": [
    "import os\n",
    "import matplotlib.pyplot as plt\n",
    "import seaborn as sns\n",
    "from plot import *\n",
    "from plot_utils import *"
   ]
  },
  {
   "cell_type": "code",
   "execution_count": 2,
   "metadata": {},
   "outputs": [],
   "source": [
    "infar = ['infar'+os.sep+f for f in os.listdir('infar') if os.path.isfile('infar'+os.sep+f) and not f.endswith(('.json', '.py', '.ipynb'))]\n",
    "infar.sort()\n",
    "ucfsports = ['ucfsports'+os.sep+f for f in os.listdir('ucfsports') if os.path.isfile('ucfsports'+os.sep+f) and not f.endswith(('.json', '.py', '.ipynb'))]\n",
    "ucfsports.sort()\n",
    "ucf11 = ['ucf11'+os.sep+f for f in os.listdir('ucf11') if os.path.isfile('ucf11'+os.sep+f) and not f.endswith(('.json', '.py', '.ipynb'))]\n",
    "ucf11.sort()\n",
    "jhmdb = ['jhmdb'+os.sep+f for f in os.listdir('jhmdb') if os.path.isfile('jhmdb'+os.sep+f) and not f.endswith(('.json', '.py', '.ipynb'))]\n",
    "jhmdb.sort()\n",
    "#kth = ['kth'+os.sep+f for f in os.listdir('kth') if os.path.isfile('kth'+os.sep+f) and not f.endswith(('.json', '.py', '.ipynb'))]\n",
    "#kth.sort()"
   ]
  },
  {
   "cell_type": "code",
   "execution_count": 3,
   "metadata": {},
   "outputs": [
    {
     "name": "stdout",
     "output_type": "stream",
     "text": [
      "Model: infar/infar_BBBresnet18_q-5_val.log \tMax val: 48.333333 in epoch 76\n",
      "\t\t\t\t\t\tMax val: 100.000000 in epoch 76\n",
      "\n",
      "Model:    infar/infar_resnet18_oth_val.log \tMax val: 35.000000 in epoch 62\n",
      "\t\t\t\t\t\tMax val: 100.000000 in epoch 62\n",
      "\n",
      "-----------------------------------------------------------------------\n",
      "\n",
      "Model: ucfsports/ucfsports_2_BBBresnet18_q-5_val.log \tMax val: 84.615385 in epoch 163\n",
      "\t\t\t\t\t\tMax val: 84.393064 in epoch 163\n",
      "\n",
      "Model: ucfsports/ucfsports_2_resnet18_val.log \tMax val: 83.216783 in epoch 179\n",
      "\t\t\t\t\t\tMax val: 89.595376 in epoch 179\n",
      "\n",
      "-----------------------------------------------------------------------\n",
      "\n",
      "Model: ucfsports/ucfsports_BBBresnet18_q-5_oth_val.log \tMax val: 84.699454 in epoch 181\n",
      "\t\t\t\t\t\tMax val: 85.210084 in epoch 181\n",
      "\n",
      "Model: ucfsports/ucfsports_resnet18_oth_val.log \tMax val: 84.699454 in epoch 179\n",
      "\t\t\t\t\t\tMax val: 91.764706 in epoch 179\n",
      "\n",
      "-----------------------------------------------------------------------\n",
      "\n",
      "Model: ucfsports/ucfsports_BBBresnet18_q-5_val.log \tMax val: 81.481481 in epoch 95\n",
      "\t\t\t\t\t\tMax val: 90.434783 in epoch 95\n",
      "\n",
      "-----------------------------------------------------------------------\n",
      "\n",
      "Model: ucf11/ucf11_3_BBBresnet18_q-5_val.log \tMax val: 56.431535 in epoch 75\n",
      "\t\t\t\t\t\tMax val: 59.316888 in epoch 75\n",
      "\n",
      "Model:      ucf11/ucf11_3_resnet18_val.log \tMax val: 55.705394 in epoch 79\n",
      "\t\t\t\t\t\tMax val: 69.943074 in epoch 79\n",
      "\n",
      "-----------------------------------------------------------------------\n",
      "\n",
      "Model: jhmdb/jhmdb_BBBresnet34_q-5_val.log \tMax val: 20.895522 in epoch 30\n",
      "\t\t\t\t\t\tMax val: 77.121212 in epoch 30\n",
      "\n",
      "Model:        jhmdb/jhmdb_resnet34_val.log \tMax val: 21.531684 in epoch 23\n",
      "\t\t\t\t\t\tMax val: 58.532912 in epoch 23\n",
      "\n",
      "-----------------------------------------------------------------------\n",
      "\n"
     ]
    },
    {
     "name": "stderr",
     "output_type": "stream",
     "text": [
      "/home/martin/.local/lib/python3.6/site-packages/numpy/core/fromnumeric.py:56: FutureWarning: \n",
      "The current behaviour of 'Series.argmax' is deprecated, use 'idxmax'\n",
      "instead.\n",
      "The behavior of 'argmax' will be corrected to return the positional\n",
      "maximum in the future. For now, use 'series.values.argmax' or\n",
      "'np.argmax(np.array(values))' to get the position of the maximum\n",
      "row.\n",
      "  return getattr(obj, method)(*args, **kwds)\n"
     ]
    }
   ],
   "source": [
    "get_max_valid_value_and_train(infar, True, ('val',))\n",
    "print()\n",
    "get_max_valid_value_and_train(infar, False, ('val', 'oth'))\n",
    "print('\\n-----------------------------------------------------------------------\\n')\n",
    "get_max_valid_value_and_train(ucfsports, True, ('val', '2'), xlim=200)\n",
    "print()\n",
    "get_max_valid_value_and_train(ucfsports, False, ('val', '2'), xlim=200)\n",
    "print('\\n-----------------------------------------------------------------------\\n')\n",
    "get_max_valid_value_and_train(ucfsports, True, ('val', 'oth'), xlim=200)\n",
    "print()\n",
    "get_max_valid_value_and_train(ucfsports, False, ('val', 'oth'), xlim=200)\n",
    "print('\\n-----------------------------------------------------------------------\\n')\n",
    "get_max_valid_value_and_train(ucfsports, True, ('5_val', 's_B'))\n",
    "print('\\n-----------------------------------------------------------------------\\n')\n",
    "get_max_valid_value_and_train(ucf11, True, ('val', '3'), xlim=80)\n",
    "print()\n",
    "get_max_valid_value_and_train(ucf11, False, ('val', '3'), xlim=80)\n",
    "print('\\n-----------------------------------------------------------------------\\n')\n",
    "get_max_valid_value_and_train(jhmdb, True, ('val',), xlim=80)\n",
    "print()\n",
    "get_max_valid_value_and_train(jhmdb, False, ('4_val',), xlim=80)\n",
    "print('\\n-----------------------------------------------------------------------\\n')"
   ]
  },
  {
   "cell_type": "code",
   "execution_count": null,
   "metadata": {},
   "outputs": [],
   "source": []
  },
  {
   "cell_type": "code",
   "execution_count": null,
   "metadata": {},
   "outputs": [],
   "source": []
  }
 ],
 "metadata": {
  "kernelspec": {
   "display_name": "Python 3",
   "language": "python",
   "name": "python3"
  },
  "language_info": {
   "codemirror_mode": {
    "name": "ipython",
    "version": 3
   },
   "file_extension": ".py",
   "mimetype": "text/x-python",
   "name": "python",
   "nbconvert_exporter": "python",
   "pygments_lexer": "ipython3",
   "version": "3.6.8"
  }
 },
 "nbformat": 4,
 "nbformat_minor": 2
}
